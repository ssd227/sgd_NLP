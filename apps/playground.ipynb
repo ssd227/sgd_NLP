{
 "cells": [
  {
   "cell_type": "code",
   "execution_count": 1,
   "metadata": {},
   "outputs": [
    {
     "data": {
      "text/plain": [
       "torch.Size([10, 20])"
      ]
     },
     "execution_count": 1,
     "metadata": {},
     "output_type": "execute_result"
    }
   ],
   "source": [
    "import torch\n",
    "B = 10\n",
    "hidden_size = 5\n",
    "\n",
    "x= torch.rand(B, hidden_size*4)\n",
    "x.shape"
   ]
  },
  {
   "cell_type": "code",
   "execution_count": 2,
   "metadata": {},
   "outputs": [
    {
     "name": "stdout",
     "output_type": "stream",
     "text": [
      "<class 'tuple'> 4 torch.Size([10, 1, 5])\n"
     ]
    }
   ],
   "source": [
    "out = torch.split((x).reshape((B,4, hidden_size)), split_size_or_sections=1 ,dim=1)\n",
    "print(type(out), len(out), out[0].shape)\n"
   ]
  },
  {
   "cell_type": "code",
   "execution_count": 3,
   "metadata": {},
   "outputs": [
    {
     "name": "stdout",
     "output_type": "stream",
     "text": [
      "torch.Size([10, 5])\n"
     ]
    }
   ],
   "source": [
    "i,f,g,o = [x.reshape((B, hidden_size)) for x in torch.split((x).reshape((B,4, hidden_size)), split_size_or_sections=1 ,dim=1)]\n",
    "print(i.shape)"
   ]
  },
  {
   "cell_type": "code",
   "execution_count": 4,
   "metadata": {},
   "outputs": [
    {
     "name": "stdout",
     "output_type": "stream",
     "text": [
      "torch.Size([3, 4, 50]) torch.Size([3, 4, 50])\n"
     ]
    }
   ],
   "source": [
    "import torch\n",
    "d = 50\n",
    "B = 3 \n",
    "T = 4\n",
    "\n",
    "x = torch.zeros((B,T,d))\n",
    "seg_emb = torch.randn((2, 1, d))\n",
    "\n",
    "first_sentence = x + seg_emb[0].reshape(1,d)\n",
    "second_sentence = x + seg_emb[1].reshape(1,d)\n",
    "\n",
    "print(first_sentence.shape, second_sentence.shape)"
   ]
  }
 ],
 "metadata": {
  "kernelspec": {
   "display_name": "base",
   "language": "python",
   "name": "python3"
  },
  "language_info": {
   "codemirror_mode": {
    "name": "ipython",
    "version": 3
   },
   "file_extension": ".py",
   "mimetype": "text/x-python",
   "name": "python",
   "nbconvert_exporter": "python",
   "pygments_lexer": "ipython3",
   "version": "3.10.9"
  },
  "orig_nbformat": 4
 },
 "nbformat": 4,
 "nbformat_minor": 2
}
