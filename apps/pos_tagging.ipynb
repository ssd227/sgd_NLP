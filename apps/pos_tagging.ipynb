{
 "cells": [
  {
   "attachments": {},
   "cell_type": "markdown",
   "metadata": {},
   "source": [
    "## POS Tagging\n",
    "\n",
    "part of speech tagging是比较传统的NLP任务。\n",
    "常见的任务例如给定一个句子，对句子中的词做词性标注、语法标注、命名实体标注等\n",
    "\n",
    "```\n",
    "例：我      喜欢    篮球\n",
    "    主语    谓语    宾语\n",
    "```\n",
    "这个问题可以看成序列到序列的预测或转译，可以只使用encoder来做预测，也可以使用完整的seq2seq来处理。\n",
    "下文将演示这两种训练方法在pos tagging问题上的处理效果"
   ]
  },
  {
   "cell_type": "code",
   "execution_count": null,
   "metadata": {},
   "outputs": [],
   "source": []
  },
  {
   "cell_type": "code",
   "execution_count": null,
   "metadata": {},
   "outputs": [],
   "source": []
  },
  {
   "cell_type": "code",
   "execution_count": null,
   "metadata": {},
   "outputs": [],
   "source": []
  }
 ],
 "metadata": {
  "language_info": {
   "name": "python"
  },
  "orig_nbformat": 4
 },
 "nbformat": 4,
 "nbformat_minor": 2
}
