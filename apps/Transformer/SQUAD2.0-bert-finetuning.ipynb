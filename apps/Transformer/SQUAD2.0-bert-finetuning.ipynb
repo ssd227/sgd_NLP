{
 "cells": [
  {
   "attachments": {},
   "cell_type": "markdown",
   "metadata": {},
   "source": [
    "# Bert Fine Tune 流程\n",
    "\n",
    "```\n",
    "    现有pytorch 模型试一试效果和速度。\n",
    "    try tricks(在低配设备上快速部署任务)\n",
    "    暂不使用自己的实现\n",
    "\n",
    "    FT：全量数据迭代两到三轮，bath size 32，adam [5e-5，2e-5] 但存在字符串长度限制\n",
    "```"
   ]
  },
  {
   "cell_type": "code",
   "execution_count": 1,
   "metadata": {},
   "outputs": [
    {
     "name": "stdout",
     "output_type": "stream",
     "text": [
      "/playground/sgd_deep_learning/sgd_nlp\n"
     ]
    }
   ],
   "source": [
    "# 环境配置\n",
    "%cd /playground/sgd_deep_learning/sgd_nlp/\n",
    "import sys \n",
    "sys.path.append('./python')"
   ]
  },
  {
   "cell_type": "code",
   "execution_count": 2,
   "metadata": {},
   "outputs": [],
   "source": [
    "import torch\n",
    "from torch import nn\n",
    "from torchtext.datasets import SQuAD2\n",
    "from torch.utils.data import DataLoader\n",
    "from torch.utils.data.backward_compatibility import worker_init_fn\n"
   ]
  },
  {
   "cell_type": "code",
   "execution_count": 8,
   "metadata": {},
   "outputs": [
    {
     "name": "stdout",
     "output_type": "stream",
     "text": [
      "<class 'torch.utils.data.datapipes.iter.sharding.ShardingFilterIterDataPipe'>\n"
     ]
    },
    {
     "ename": "ValueError",
     "evalue": "too many values to unpack (expected 2)",
     "output_type": "error",
     "traceback": [
      "\u001b[0;31m---------------------------------------------------------------------------\u001b[0m",
      "\u001b[0;31mValueError\u001b[0m                                Traceback (most recent call last)",
      "Cell \u001b[0;32mIn[8], line 8\u001b[0m\n\u001b[1;32m      5\u001b[0m     \u001b[39mreturn\u001b[39;00m line\u001b[39m.\u001b[39msplit()\n\u001b[1;32m      7\u001b[0m tokens \u001b[39m=\u001b[39m []\n\u001b[0;32m----> 8\u001b[0m \u001b[39mfor\u001b[39;00m label, line \u001b[39min\u001b[39;00m train_iter:\n\u001b[1;32m      9\u001b[0m     tokens \u001b[39m+\u001b[39m\u001b[39m=\u001b[39m tokenize(label, line)\n",
      "\u001b[0;31mValueError\u001b[0m: too many values to unpack (expected 2)"
     ]
    }
   ],
   "source": [
    "train_dp, dev_dp = SQuAD2(root='./data/squad2/', split = ('train', 'dev'))\n",
    "print(type(train_dp))\n",
    "\n",
    "train_dl = DataLoader(train_dp, num_workers=4, worker_init_fn=worker_init_fn, drop_last=True)\n",
    "\n",
    "def tokenize(label, line):\n",
    "    return line.split()\n",
    "\n",
    "tokens = []\n",
    "for label, line in train_iter:\n",
    "    tokens += tokenize(label, line)"
   ]
  },
  {
   "cell_type": "code",
   "execution_count": null,
   "metadata": {},
   "outputs": [],
   "source": [
    "import torchtext\n",
    "\n",
    "\n",
    "# 数据格式 (label:int, line:str)\n",
    "train_iter, test_iter = torchtext.datasets.IMDB(root='./data/tmp/', split=('train','test'))\n",
    "\n",
    "def tokenize(label, line):\n",
    "    return line.split()\n",
    "\n",
    "tokens = []\n",
    "for label, line in train_iter:\n",
    "    tokens += tokenize(label, line)"
   ]
  }
 ],
 "metadata": {
  "kernelspec": {
   "display_name": "base",
   "language": "python",
   "name": "python3"
  },
  "language_info": {
   "codemirror_mode": {
    "name": "ipython",
    "version": 3
   },
   "file_extension": ".py",
   "mimetype": "text/x-python",
   "name": "python",
   "nbconvert_exporter": "python",
   "pygments_lexer": "ipython3",
   "version": "3.10.14"
  },
  "orig_nbformat": 4
 },
 "nbformat": 4,
 "nbformat_minor": 2
}
