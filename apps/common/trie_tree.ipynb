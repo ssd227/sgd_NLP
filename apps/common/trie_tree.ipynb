{
 "cells": [
  {
   "attachments": {},
   "cell_type": "markdown",
   "metadata": {},
   "source": [
    "## 字典树测试\n",
    "\n",
    "应用场景\n",
    "* 基于字典的中文分词（用于存储字典中的词）\n",
    "\n",
    "todo 性能测试"
   ]
  },
  {
   "cell_type": "code",
   "execution_count": 1,
   "metadata": {},
   "outputs": [
    {
     "name": "stdout",
     "output_type": "stream",
     "text": [
      "/playground/sgd_deep_learning/sgd_nlp\n"
     ]
    }
   ],
   "source": [
    "# 环境配置\n",
    "%cd /playground/sgd_deep_learning/sgd_nlp/\n",
    "import sys \n",
    "sys.path.append('./python')\n",
    "\n",
    "from sgd_nlp.common import Trie"
   ]
  },
  {
   "cell_type": "code",
   "execution_count": 2,
   "metadata": {},
   "outputs": [
    {
     "name": "stdout",
     "output_type": "stream",
     "text": [
      "{0: [0, 1, 2], 1: [1], 2: [2, 3], 3: [3]}\n",
      "True\n"
     ]
    }
   ],
   "source": [
    "def test_all_end_ids_from_head_is_word():\n",
    "    tokens = ['abc', 'ab', 'cd']\n",
    "    trie = Trie()\n",
    "    trie.insert_batch(tokens)\n",
    "\n",
    "    print(trie.all_words_ids_pair(\"abcd\"))\n",
    "    print(trie.is_existed('abc'))\n",
    "\n",
    "\n",
    "test_all_end_ids_from_head_is_word()\n"
   ]
  }
 ],
 "metadata": {
  "kernelspec": {
   "display_name": "base",
   "language": "python",
   "name": "python3"
  },
  "language_info": {
   "codemirror_mode": {
    "name": "ipython",
    "version": 3
   },
   "file_extension": ".py",
   "mimetype": "text/x-python",
   "name": "python",
   "nbconvert_exporter": "python",
   "pygments_lexer": "ipython3",
   "version": "3.10.9"
  },
  "orig_nbformat": 4
 },
 "nbformat": 4,
 "nbformat_minor": 2
}
