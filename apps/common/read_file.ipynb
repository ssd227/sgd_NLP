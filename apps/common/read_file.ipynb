{
 "cells": [
  {
   "attachments": {},
   "cell_type": "markdown",
   "metadata": {},
   "source": [
    "## common函数-读写文件测试"
   ]
  },
  {
   "cell_type": "code",
   "execution_count": 1,
   "metadata": {},
   "outputs": [
    {
     "name": "stdout",
     "output_type": "stream",
     "text": [
      "/playground/sgd_deep_learning/sgd_nlp\n"
     ]
    }
   ],
   "source": [
    "# 环境配置\n",
    "%cd /playground/sgd_deep_learning/sgd_nlp/\n",
    "import sys \n",
    "sys.path.append('./python')\n",
    "\n",
    "from sgd_nlp.common import yield_tokens\n",
    "import os"
   ]
  },
  {
   "cell_type": "code",
   "execution_count": 2,
   "metadata": {},
   "outputs": [
    {
     "name": "stdout",
     "output_type": "stream",
     "text": [
      "./data/tokenizer/dicts/test_default_dict\n",
      "我\n",
      "是\n",
      "伦杰周\n",
      "唱\n",
      "首一\n",
      "香里七\n",
      "信工\n",
      "处信工\n",
      "女处\n",
      "事干女\n",
      "事干\n",
      "月每\n",
      "经月\n",
      "过经\n",
      "属下\n",
      "室科\n",
      "要都\n",
      "口亲\n",
      "交口\n",
      "代交\n",
      "42\n",
      "口\n",
      "机换交\n",
      "换交\n",
      "等\n",
      "术技\n",
      "性术技\n",
      "器性\n",
      "件器\n",
      "的\n",
      "装安\n",
      "作工\n"
     ]
    }
   ],
   "source": [
    "data_home = r\"./data\"\n",
    "sub_dir = 'tokenizer/dicts/'\n",
    "dict_name = 'test_default_dict'\n",
    "\n",
    "x = os.path.join(data_home, sub_dir, dict_name)\n",
    "print(x)\n",
    "for item in yield_tokens(x, reverse=True):\n",
    "    print(item)"
   ]
  }
 ],
 "metadata": {
  "kernelspec": {
   "display_name": "base",
   "language": "python",
   "name": "python3"
  },
  "language_info": {
   "codemirror_mode": {
    "name": "ipython",
    "version": 3
   },
   "file_extension": ".py",
   "mimetype": "text/x-python",
   "name": "python",
   "nbconvert_exporter": "python",
   "pygments_lexer": "ipython3",
   "version": "3.10.9"
  },
  "orig_nbformat": 4
 },
 "nbformat": 4,
 "nbformat_minor": 2
}
