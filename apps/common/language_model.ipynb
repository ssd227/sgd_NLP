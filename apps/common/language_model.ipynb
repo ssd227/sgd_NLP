{
 "cells": [
  {
   "attachments": {},
   "cell_type": "markdown",
   "metadata": {},
   "source": [
    "## 概率n阶语言模型测试\n",
    "```\n",
    "概率语言模型\n",
    "\n",
    "处理N阶语言模型的统计信息\n",
    "N-gram = 2，词对[x1,x2]的统计信息\n",
    "N-gram = 3，词对[x1,x2,x3]的统计信息\n",
    "... ...\n",
    "\n",
    "todo 统计信息N向下兼容（todo设计思路）\n",
    "\n",
    "todo ngram的问题：\n",
    "    n越大\n",
    "        需要存的index就越多，内存吃紧\n",
    "        但是统计数据越发稀疏，miss率高\n",
    "```"
   ]
  },
  {
   "cell_type": "code",
   "execution_count": 1,
   "metadata": {},
   "outputs": [
    {
     "name": "stdout",
     "output_type": "stream",
     "text": [
      "/playground/sgd_deep_learning/sgd_nlp\n"
     ]
    }
   ],
   "source": [
    "# 环境配置\n",
    "%cd /playground/sgd_deep_learning/sgd_nlp/\n",
    "import sys \n",
    "sys.path.append('./python')"
   ]
  },
  {
   "cell_type": "code",
   "execution_count": 2,
   "metadata": {},
   "outputs": [],
   "source": [
    "from sgd_nlp.common import LanguageModel, DefaultToken\n",
    "from math import log"
   ]
  },
  {
   "cell_type": "code",
   "execution_count": 3,
   "metadata": {},
   "outputs": [],
   "source": [
    "# simple test code\n",
    "def test_language_model(tokens_list):\n",
    "    lan_model = LanguageModel(tokens_list=tokens_list, N_gram=3)\n",
    "\n",
    "    flag_test_all = True\n",
    "\n",
    "    flag_test_build_ngram_counters = False\n",
    "    if flag_test_build_ngram_counters or flag_test_all:\n",
    "        print('\\n********** build ngram counters **********')\n",
    "        for i in range(3):\n",
    "            print(lan_model.ngram_counter[i])\n",
    "\n",
    "    flag_test_tuple = False\n",
    "    if flag_test_tuple or flag_test_all:\n",
    "        # python 稀奇的小问题\n",
    "        print('\\n********** python 稀奇的小问题 **********',\n",
    "                \"\\ncase1:\\t\", (DefaultToken.unk_token), ' type is ', type((DefaultToken.unk_token)),\n",
    "                \"\\ncase2:\\t\", (DefaultToken.unk_token,), ' type is ', type((DefaultToken.unk_token,)), )\n",
    "\n",
    "    flag_test_count_all_token = False\n",
    "    if flag_test_count_all_token or flag_test_all:\n",
    "        print(\"\\n********** test: count_all_token() **********\",\n",
    "                \"\\nall token num:\\t\", lan_model.count_all_token(),\n",
    "                \"\\ntoken dict:\\t\", lan_model.ngram_counter[0])\n",
    "\n",
    "    flag_test_count = False\n",
    "    if flag_test_count or flag_test_all:\n",
    "        print(\"\\n********** test: count()_1 **********\",\n",
    "                \"\\ncount bos_token:\\t\", lan_model.count(DefaultToken.bos), )\n",
    "        assert lan_model.count(DefaultToken.bos) == 8\n",
    "\n",
    "        print(\"\\n********** test: count()_2 **********\",\n",
    "                \"\\ncount (a, b, c):\\t\", lan_model.count(['a', 'b', 'c']), )\n",
    "        assert lan_model.count(['a', 'b', 'c']) == 1\n",
    "\n",
    "    flag_test_prob = False\n",
    "    if flag_test_prob or flag_test_all:\n",
    "        print(\"\\n********** test: prob()_1 **********\",\n",
    "                \"\\nprob c|(a, b):\\t\", lan_model.prob(['a', 'b', 'c']), )\n",
    "        assert abs(lan_model.prob(['a', 'b', 'c']) - 0.5) < 1e-5  # 2case (a b c) & (a b <-eos->)\n",
    "\n",
    "        print(\"\\n********** test: prob()_2 **********\",\n",
    "                \"\\nprob f|e:\\t\", lan_model.prob(['e', 'f']), )\n",
    "        assert abs(lan_model.prob(['e', 'f']) - 0) < 1e-5\n",
    "\n",
    "        print(\"\\n********** test: prob()_3 **********\",\n",
    "                \"\\nprob b:\\t\", lan_model.prob('b'),\n",
    "                \"\\ncount b:\\t\", lan_model.count('b'),\n",
    "                \"\\ncount all token:\\t\", lan_model.count_all_token(),\n",
    "                \"\\nvalid prob:\\t\", lan_model.count('b') / lan_model.count_all_token(), )\n",
    "        assert abs(lan_model.prob('b') - 0.142857142) < 1e-5\n",
    "\n",
    "    flag_test_log_prob = True\n",
    "    if flag_test_log_prob or flag_test_all:\n",
    "        print(\"\\n********** test: log_prob()_1 **********\",\n",
    "                \"\\nlog_prob c|(a, b):\\t\", lan_model.log_prob(['a', 'b', 'c']),\n",
    "                \"\\nvalid log prob:\\t\", log(0.5), )\n",
    "        assert abs(lan_model.log_prob(['a', 'b', 'c']) - -0.693147185) < 1e-5  # 2case (a b c) & (a b <-eos->)"
   ]
  },
  {
   "cell_type": "code",
   "execution_count": 4,
   "metadata": {},
   "outputs": [
    {
     "name": "stdout",
     "output_type": "stream",
     "text": [
      "[['a', 'b', 'c', 'd'], ['c', 'b', 'a'], ['a', 'b'], ['a']]\n",
      "['a', 'b', 'c', 'd', 'c', 'b', 'a', 'a', 'b', 'a']\n",
      "\n",
      "********** build ngram counters **********\n",
      "Counter({('\\x01',): 8, ('a',): 2, ('b',): 2, ('c',): 2})\n",
      "Counter({('\\x01', '\\x01'): 4, ('\\x01', 'a'): 3, ('a', 'b'): 2, ('b', 'c'): 1, ('c', 'd'): 1, ('\\x01', 'c'): 1, ('c', 'b'): 1, ('b', 'a'): 1})\n",
      "Counter({('\\x01', '\\x01', 'a'): 3, ('\\x01', 'a', 'b'): 2, ('a', 'b', 'c'): 1, ('b', 'c', 'd'): 1, ('c', 'd', '\\x02'): 1, ('\\x01', '\\x01', 'c'): 1, ('\\x01', 'c', 'b'): 1, ('c', 'b', 'a'): 1, ('b', 'a', '\\x02'): 1, ('a', 'b', '\\x02'): 1, ('\\x01', 'a', '\\x02'): 1})\n",
      "\n",
      "********** python 稀奇的小问题 ********** \n",
      "case1:\t \u0004  type is  <class 'str'> \n",
      "case2:\t ('\\x04',)  type is  <class 'tuple'>\n",
      "\n",
      "********** test: count_all_token() ********** \n",
      "all token num:\t 14 \n",
      "token dict:\t Counter({('\\x01',): 8, ('a',): 2, ('b',): 2, ('c',): 2})\n",
      "\n",
      "********** test: count()_1 ********** \n",
      "count bos_token:\t 8\n",
      "\n",
      "********** test: count()_2 ********** \n",
      "count (a, b, c):\t 1\n",
      "\n",
      "********** test: prob()_1 ********** \n",
      "prob c|(a, b):\t 0.4999999975\n",
      "\n",
      "********** test: prob()_2 ********** \n",
      "prob f|e:\t 0.0\n",
      "\n",
      "********** test: prob()_3 ********** \n",
      "prob b:\t 0.14285714275510203 \n",
      "count b:\t 2 \n",
      "count all token:\t 14 \n",
      "valid prob:\t 0.14285714285714285\n",
      "\n",
      "********** test: log_prob()_1 ********** \n",
      "log_prob c|(a, b):\t -0.6931471855599453 \n",
      "valid log prob:\t -0.6931471805599453\n"
     ]
    }
   ],
   "source": [
    "\" simple test code main loop\"\n",
    "doc = \"a b c d\\n c b a \\n a b\\n a\"\n",
    "tokens_list = [line.strip().split() for line in doc.split('\\n')]\n",
    "tokens = [token for tokens in tokens_list for token in tokens]\n",
    "\n",
    "print(tokens_list)\n",
    "print(tokens)\n",
    "\n",
    "test_language_model(tokens_list)"
   ]
  }
 ],
 "metadata": {
  "kernelspec": {
   "display_name": "base",
   "language": "python",
   "name": "python3"
  },
  "language_info": {
   "codemirror_mode": {
    "name": "ipython",
    "version": 3
   },
   "file_extension": ".py",
   "mimetype": "text/x-python",
   "name": "python",
   "nbconvert_exporter": "python",
   "pygments_lexer": "ipython3",
   "version": "3.10.9"
  },
  "orig_nbformat": 4
 },
 "nbformat": 4,
 "nbformat_minor": 2
}
