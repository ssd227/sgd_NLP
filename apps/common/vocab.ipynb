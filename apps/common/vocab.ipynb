{
 "cells": [
  {
   "attachments": {},
   "cell_type": "markdown",
   "metadata": {},
   "source": [
    "## Vocab 测试\n",
    "\n",
    "```\n",
    "class Vocab:\n",
    "    \"\"\" 提供词和词的简单映射\n",
    "\n",
    "        功能：记录所有词和（词《=》id）映射关系， 映射（句子和ids），补充上default token\n",
    "        具有动态的词统计信息（那就需要版本号了，不然旧的映射无法翻译） 是个问题，(到底需不需要这个功能呢?????）\n",
    "\n",
    "        1、分析词频率\n",
    "        2、提供index和word见的映射 map\n",
    "        4、序列化state，不用重头处理\n",
    "    \"\"\"\n",
    "```"
   ]
  },
  {
   "cell_type": "code",
   "execution_count": 1,
   "metadata": {},
   "outputs": [
    {
     "name": "stdout",
     "output_type": "stream",
     "text": [
      "/playground/sgd_deep_learning/sgd_nlp\n"
     ]
    }
   ],
   "source": [
    "# 环境配置\n",
    "%cd /playground/sgd_deep_learning/sgd_nlp/\n",
    "import sys \n",
    "sys.path.append('./python')\n",
    "\n",
    "from sgd_nlp.common import Vocab"
   ]
  },
  {
   "cell_type": "code",
   "execution_count": 2,
   "metadata": {},
   "outputs": [
    {
     "name": "stdout",
     "output_type": "stream",
     "text": [
      "[['a', 'b', 'c', 'd'], ['c', 'b', 'a'], ['a', 'b'], ['a']]\n",
      "['a', 'b', 'c', 'd', 'c', 'b', 'a', 'a', 'b', 'a']\n",
      "{'\\x04': 0, 'a': 1, 'b': 2, 'c': 3, 'd': 4}\n",
      "[1, 3, 4, 0]\n",
      "****** VOCAB LOG INFO ******\n",
      "corpus_word_num: 10\n",
      "vocab_size: 5\n",
      "word_freq_count: \n",
      "[('a', 4), ('b', 3), ('c', 2), ('d', 1)]...\n",
      "...[('a', 4), ('b', 3), ('c', 2), ('d', 1)]\n",
      "****** vocab log end ******\n"
     ]
    }
   ],
   "source": [
    "# simple test code\n",
    "\n",
    "def test_vocab(tokens):\n",
    "    vocab = Vocab(tokens)\n",
    "    print(vocab.token_to_idx)\n",
    "    print(vocab[['a', 'c', 'd', 'g']])\n",
    "    vocab.log_info()\n",
    "\n",
    "\n",
    "\" simple test code main loop\"\n",
    "doc = \"a b c d\\n c b a \\n a b\\n a\"\n",
    "tokens_list = [line.strip().split() for line in doc.split('\\n')]\n",
    "tokens = [token for tokens in tokens_list for token in tokens]\n",
    "\n",
    "print(tokens_list)\n",
    "print(tokens)\n",
    "\n",
    "test_vocab(tokens)"
   ]
  }
 ],
 "metadata": {
  "kernelspec": {
   "display_name": "base",
   "language": "python",
   "name": "python3"
  },
  "language_info": {
   "codemirror_mode": {
    "name": "ipython",
    "version": 3
   },
   "file_extension": ".py",
   "mimetype": "text/x-python",
   "name": "python",
   "nbconvert_exporter": "python",
   "pygments_lexer": "ipython3",
   "version": "3.10.9"
  },
  "orig_nbformat": 4
 },
 "nbformat": 4,
 "nbformat_minor": 2
}
