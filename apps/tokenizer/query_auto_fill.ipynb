{
 "cells": [
  {
   "attachments": {},
   "cell_type": "markdown",
   "metadata": {},
   "source": [
    "## query自动补全\n",
    "\n",
    "TODO\n",
    "1) 基于拼音\n",
    "2) 极限压力测试 + 不同数据结构的性能分析。\n",
    "3) 好像倒排索引也是可以做的，只要索引建立的够好，就没多少latency。\n"
   ]
  },
  {
   "cell_type": "code",
   "execution_count": 1,
   "metadata": {},
   "outputs": [
    {
     "name": "stdout",
     "output_type": "stream",
     "text": [
      "/playground/sgd_deep_learning/sgd_nlp\n"
     ]
    }
   ],
   "source": [
    "# 环境配置\n",
    "%cd /playground/sgd_deep_learning/sgd_nlp/\n",
    "import sys \n",
    "sys.path.append('./python')\n",
    "\n",
    "import os\n",
    "from sgd_nlp.common import yield_lines, Trie"
   ]
  },
  {
   "cell_type": "code",
   "execution_count": 2,
   "metadata": {},
   "outputs": [],
   "source": [
    "class QueryAutoFill:\n",
    "    \"\"\"\n",
    "    QueryAutoFill(先实现个简单版本)\n",
    "\n",
    "    输入：\n",
    "        用户键盘输入的query(不要求完整)  \n",
    "    功能：\n",
    "        1、补全所有相关搜索(start with ***),列出所有候选的query\n",
    "        2、不同的语料库可以生成不同的候选队列\n",
    "            用户名、产品名、热门搜索词...\n",
    "\n",
    "    corner case:\n",
    "        允许query带空格(预料中的一行作为一个query)\n",
    "    todo:\n",
    "        当返回的结果太多时,按照热度对候选补全query做截断。(自行定义热度)  \n",
    "    \"\"\"\n",
    "    \n",
    "    def __init__(self, candi_query_source_file):\n",
    "        self.trie = Trie()\n",
    "\n",
    "        # load default_query_source file\n",
    "        self.load_candi_query_lines(\n",
    "            yield_lines(candi_query_source_file))\n",
    "\n",
    "    def load_candi_query_lines(self, query_lines):\n",
    "        self.trie.insert_batch(query_lines)\n",
    "\n",
    "    def forward(self, input_query):\n",
    "        new_query = input_query.strip()\n",
    "        if len(new_query) == 0:\n",
    "            return None\n",
    "        return self.trie.get_candidates_starts_with(new_query)"
   ]
  },
  {
   "cell_type": "code",
   "execution_count": 3,
   "metadata": {},
   "outputs": [
    {
     "name": "stdout",
     "output_type": "stream",
     "text": [
      "*--**--**--**--**--**--**--**--**--**--*\n",
      "input_query:\t 美国\n",
      "candi_query:\t ['美国0元购', '美国核航母群抵韩', '美国加息最新消息', '美国骚乱最新动向', '美国总统拜登发表涉台声明']\n",
      "\n",
      "*--**--**--**--**--**--**--**--**--**--*\n",
      "input_query:\t 开车\n",
      "candi_query:\t ['开车油价', '开车多少钱一个月']\n",
      "\n"
     ]
    }
   ],
   "source": [
    "data_home = r'./data'\n",
    "sub_dir = 'query_auto_fill'\n",
    "dict_name = 'test_default_candi_query_lines.pt'\n",
    "dpath = os.path.join(data_home, sub_dir, dict_name)\n",
    "\n",
    "query_auto_fill = QueryAutoFill(dpath)\n",
    "input_query1 = '美国'\n",
    "input_query2 = '开车'\n",
    "\n",
    "\n",
    "def test_tokenizer(input_query):\n",
    "    candi_query_list = query_auto_fill.forward(input_query)\n",
    "    print('*--*' * 10)\n",
    "    print('input_query:\\t', input_query)\n",
    "    print('candi_query:\\t', candi_query_list, end='\\n'*2)\n",
    "\n",
    "test_tokenizer(input_query1)\n",
    "test_tokenizer(input_query2)\n"
   ]
  }
 ],
 "metadata": {
  "kernelspec": {
   "display_name": "base",
   "language": "python",
   "name": "python3"
  },
  "language_info": {
   "codemirror_mode": {
    "name": "ipython",
    "version": 3
   },
   "file_extension": ".py",
   "mimetype": "text/x-python",
   "name": "python",
   "nbconvert_exporter": "python",
   "pygments_lexer": "ipython3",
   "version": "3.10.9"
  },
  "orig_nbformat": 4
 },
 "nbformat": 4,
 "nbformat_minor": 2
}
